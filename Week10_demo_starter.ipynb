{
 "cells": [
  {
   "cell_type": "code",
   "execution_count": null,
   "id": "e46fdd48-bec4-4edb-9b97-c26c8d5b9393",
   "metadata": {
    "tags": []
   },
   "outputs": [],
   "source": [
    "# Import statements\n",
    "import numpy as np\n",
    "import xarray as xr\n",
    "import matplotlib.pyplot as plt"
   ]
  },
  {
   "cell_type": "markdown",
   "id": "ffbfeeba-945b-4296-94fb-3388538529bb",
   "metadata": {},
   "source": [
    "**First, let's write code to read and plot a single file of ARGO float data."
   ]
  },
  {
   "cell_type": "code",
   "execution_count": null,
   "id": "fcfe79a6-0634-42e3-a335-fc9ba398b858",
   "metadata": {
    "tags": []
   },
   "outputs": [],
   "source": [
    "filepath ='Week10_demo/D5901105_176.nc'"
   ]
  },
  {
   "cell_type": "code",
   "execution_count": null,
   "id": "b451f33c-d402-47da-a80d-bf2863981b08",
   "metadata": {},
   "outputs": [],
   "source": [
    "# Import just one data file using xarray\n",
    "\n",
    "\n",
    "\n",
    "# Reformat the data to remove singleton dimensions\n",
    "\n",
    "\n",
    "# Get the lat and lon\n",
    "\n",
    "\n",
    "# Get the temperature and pressure\n"
   ]
  },
  {
   "cell_type": "code",
   "execution_count": null,
   "id": "ba03df16-a69e-42a8-a964-93f6c6a5cc78",
   "metadata": {},
   "outputs": [],
   "source": [
    "# Make figure\n",
    "fig = \n",
    "ax = \n",
    "\n",
    "# Plot temperature and pressure\n",
    "\n",
    "\n",
    "# Format figure\n",
    "\n"
   ]
  },
  {
   "cell_type": "markdown",
   "id": "5a87e99c-e187-49d0-b699-f4a6a2e0da6f",
   "metadata": {},
   "source": [
    "**Let's make two functions:**\n",
    "\n",
    "1) Read ARGO float data from a file and extract temperature, pressure, latitude, and longitude data.\n",
    "2) Plot pressure-temperature profiles."
   ]
  },
  {
   "cell_type": "code",
   "execution_count": null,
   "id": "baeb213c-787b-480c-a981-4efed89cd7a7",
   "metadata": {
    "tags": []
   },
   "outputs": [],
   "source": [
    "# Create a function for reading the data\n",
    "\n",
    "  # Import just one data file using xarray\n",
    "\n",
    "\n",
    "\n",
    "  # Reformat the data to remove singleton dimensions\n",
    "\n",
    "\n",
    "  # Get the lat and lon\n",
    "  \n",
    "\n",
    "  # Get the temperature and pressure\n",
    "  \n",
    "\n",
    "# Create a function for plotting the temperature profile\n",
    "\n",
    "\n",
    "  # Plot temperature and pressure\n",
    "  \n",
    "\n",
    "  # Format figure\n",
    " "
   ]
  },
  {
   "cell_type": "markdown",
   "id": "10dc4807-cdc8-4b95-b9c4-4693455c6e20",
   "metadata": {},
   "source": [
    "**Read and plot ARGO float data from each file using a for loop and our functions**"
   ]
  },
  {
   "cell_type": "code",
   "execution_count": null,
   "id": "a5483d23-7e77-4b5a-b3c0-3d741a11ce3d",
   "metadata": {},
   "outputs": [],
   "source": [
    "filepath = \n",
    "\n",
    "colors = "
   ]
  },
  {
   "cell_type": "code",
   "execution_count": null,
   "id": "52b80c93-626a-4e85-8a7b-7dd4f10d62ae",
   "metadata": {},
   "outputs": [],
   "source": [
    "# Use the functions you just created in a for loop\n",
    "for index in range(0,6):\n",
    "  "
   ]
  },
  {
   "cell_type": "markdown",
   "id": "b3e4aa9d-ba35-4e0f-a8e6-d9ea040f91aa",
   "metadata": {},
   "source": [
    "# Let's take a look at satellite chlorophyll data using SIMONS CMAP, an aggregator for Oceanographic data\n",
    "- First, make an account through the Simons CMAP [website](https://simonscmap.com/)\n",
    "- Next, create an API key and copy it to your clipboard\n",
    "- Paste your API key below to access [CMAP](https://cmap.readthedocs.io/en/latest/user_guide/API_ref/pycmap_api/data_retrieval/pycmap_query.html#query) datasets"
   ]
  },
  {
   "cell_type": "code",
   "execution_count": null,
   "id": "100c7685-68e4-4924-8e43-3e5ffc4d95d1",
   "metadata": {
    "tags": []
   },
   "outputs": [],
   "source": [
    "import pycmap\n",
    "import pandas as pd\n",
    "\n",
    "# store your API key here\n",
    "key = \n",
    "# query api \n",
    "api = \n",
    "\n",
    "# access data by querying \n",
    "#An example of how to query data from CMAP\n",
    "query =  '''\n",
    "         SELECT [time], lat, lon, chl FROM tblCHL_REP \n",
    "         WHERE \n",
    "         [time] BETWEEN '2016-06-01' AND '2016-06-08' AND \n",
    "         lat BETWEEN -90 AND 90 AND \n",
    "         lon BETWEEN -180 AND 180\n",
    "         '''\n"
   ]
  },
  {
   "cell_type": "markdown",
   "id": "8747b712-bb22-49ed-82c6-a6da8b9afc24",
   "metadata": {},
   "source": [
    "### make a plot of chlorophyll data using matplotlib and cartopy"
   ]
  },
  {
   "cell_type": "code",
   "execution_count": null,
   "id": "14d3de75-4d9b-4dbe-86eb-b3dac41e1de4",
   "metadata": {
    "tags": []
   },
   "outputs": [],
   "source": [
    "import cartopy.crs as ccrs        \n",
    "import cartopy.feature as cfeature\n",
    "from matplotlib.colors import LogNorm\n",
    "\n",
    "# create figure\n"
   ]
  }
 ],
 "metadata": {
  "kernelspec": {
   "display_name": "Python 3 (ipykernel)",
   "language": "python",
   "name": "python3"
  },
  "language_info": {
   "codemirror_mode": {
    "name": "ipython",
    "version": 3
   },
   "file_extension": ".py",
   "mimetype": "text/x-python",
   "name": "python",
   "nbconvert_exporter": "python",
   "pygments_lexer": "ipython3",
   "version": "3.10.10"
  }
 },
 "nbformat": 4,
 "nbformat_minor": 5
}
